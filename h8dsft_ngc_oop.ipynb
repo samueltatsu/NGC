{
 "cells": [
  {
   "cell_type": "markdown",
   "metadata": {},
   "source": [
    "### Non-Graded Challenge 3\n",
    "Nama: Samuel Tatang Surja <br>\n",
    "Batch: HCK-012 <br>\n",
    "Objective: learning OOP"
   ]
  },
  {
   "cell_type": "markdown",
   "metadata": {},
   "source": [
    "### Task 1"
   ]
  },
  {
   "cell_type": "code",
   "execution_count": null,
   "metadata": {},
   "outputs": [],
   "source": [
    "class Book:\n",
    "    def __init__(self, id, title, author):\n",
    "        self.id = id\n",
    "        self.title = title\n",
    "        self. author = author\n",
    "        \n",
    "    \n",
    "class BookCatalog:\n",
    "    def __init__(self):\n",
    "        self.catalog = []\n",
    "\n",
    "\n",
    "    def add_book(self, title, author):\n",
    "        for book in self.catalog:\n",
    "            if book.title == title:\n",
    "                if book.author == author:\n",
    "                    print(\"Identical book already exists in catalog.\")\n",
    "                    return\n",
    "        if len(self.catalog) == 0:\n",
    "            self.catalog.append(Book(1, title, author))\n",
    "        \n",
    "        \n",
    "    def search_book(self):\n",
    "        pass\n",
    "    \n",
    "    def remove_book(self):\n",
    "        pass\n",
    "\n",
    "    def show_catalog(self):\n",
    "        pass"
   ]
  }
 ],
 "metadata": {
  "language_info": {
   "name": "python"
  }
 },
 "nbformat": 4,
 "nbformat_minor": 2
}
