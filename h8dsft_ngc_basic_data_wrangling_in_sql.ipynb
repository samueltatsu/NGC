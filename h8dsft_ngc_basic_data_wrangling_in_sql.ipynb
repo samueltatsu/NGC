{
 "cells": [
  {
   "cell_type": "markdown",
   "metadata": {},
   "source": [
    "## NGC 5\n",
    "Nama: Sammy\n",
    "Batch: HCK-012"
   ]
  },
  {
   "cell_type": "code",
   "execution_count": null,
   "metadata": {},
   "outputs": [],
   "source": [
    "CREATE TABLE IF NOT EXISTS customers (\n",
    "   customer_id SERIAL PRIMARY KEY,\n",
    "   customer_name VARCHAR(50) NOT NULL,\n",
    "   city VARCHAR(50)\n",
    ");\n",
    "\n",
    "CREATE TABLE IF NOT EXISTS orders (\n",
    "\torder_id SERIAL PRIMARY KEY,\n",
    "\tcustomer_id INT,\n",
    "\torder_date DATE,\n",
    "\ttotal_amount FLOAT,\n",
    "\tCONSTRAINT fk_customers\n",
    "\t\tFOREIGN KEY (customer_id)\n",
    "\t\t\tREFERENCES customers(customer_id)\n",
    ");\n",
    "\n",
    "INSERT INTO customers (customer_name, city)\n",
    "VALUES\n",
    "\t('John Doe', 'New York'),\n",
    "\t('Jane Smith', 'Los Angeles'),\n",
    "\t('David Johnson', 'Chicago')\n",
    ";\n",
    "\n",
    "INSERT INTO orders (customer_id, order_date, total_amount)\n",
    "VALUES\n",
    "\t(1, '2022-01-10', 100),\n",
    "\t(1, '2022-02-15', 150),\n",
    "\t(2, '2022-03-20', 200),\n",
    "\t(3, '2022-04-25', 50)\n",
    ";\n",
    "\n",
    "\n",
    "SELECT \n",
    "\tc.customer_name,\n",
    "\tCOUNT(*) AS total_orders\n",
    "FROM customers c JOIN orders o\n",
    "ON c.customer_id = o.customer_id\n",
    "GROUP BY c.customer_name\n",
    "ORDER BY c.customer_name DESC\n",
    ";"
   ]
  }
 ],
 "metadata": {
  "language_info": {
   "name": "python"
  }
 },
 "nbformat": 4,
 "nbformat_minor": 2
}
