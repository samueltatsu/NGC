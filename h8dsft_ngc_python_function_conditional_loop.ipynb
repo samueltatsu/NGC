{
 "cells": [
  {
   "cell_type": "markdown",
   "metadata": {},
   "source": [
    "# Task 1"
   ]
  },
  {
   "cell_type": "code",
   "execution_count": 4,
   "metadata": {},
   "outputs": [
    {
     "name": "stdout",
     "output_type": "stream",
     "text": [
      "2\n",
      "8\n"
     ]
    }
   ],
   "source": [
    "# 1. function 'number_of_word'\n",
    "# 2. input: 'sentence'\n",
    "# 3. use '.split()' and 'len()'\n",
    "# 4. return the number of word from the sentence\n",
    "\n",
    "def number_of_word(sentence):\n",
    "    word_count = 0      # initialize\n",
    "\n",
    "    listWord = sentence.split()\n",
    "    word_count = len(listWord)   \n",
    "\n",
    "    return word_count\n",
    "\n",
    "test1 = number_of_word(sentence = \"Hello World!\")\n",
    "print(test1)\n",
    "\n",
    "test2 = number_of_word(sentence = \"Once Upon a Time in a faraway land\")\n",
    "print(test2)"
   ]
  },
  {
   "cell_type": "markdown",
   "metadata": {},
   "source": [
    "# Task 2"
   ]
  },
  {
   "cell_type": "code",
   "execution_count": 6,
   "metadata": {},
   "outputs": [
    {
     "name": "stdout",
     "output_type": "stream",
     "text": [
      "[5, 10, 15, 20]\n",
      "[10, 20, 30, 40, 50]\n"
     ]
    }
   ],
   "source": [
    "# 1. function 'find_multiples'\n",
    "# 2. input: 'start_range', 'end_range', 'multiple'\n",
    "# 3. return list of possible multiple number(s) (tuple or list)\n",
    "\n",
    "def find_multiples(start_range, end_range, multiple):\n",
    "    multiples = []\n",
    "    for i in range(start_range, end_range+1):\n",
    "        if i % multiple == 0:\n",
    "            multiples.append(i)\n",
    "\n",
    "    return multiples\n",
    "\n",
    "test1 = find_multiples(start_range= 1, end_range= 20, multiple= 5)\n",
    "print(test1)\n",
    "\n",
    "test2 = find_multiples(start_range= 1, end_range= 50, multiple= 10)\n",
    "print(test2)"
   ]
  },
  {
   "cell_type": "markdown",
   "metadata": {},
   "source": [
    "# Task 3"
   ]
  },
  {
   "cell_type": "code",
   "execution_count": 19,
   "metadata": {},
   "outputs": [
    {
     "name": "stdout",
     "output_type": "stream",
     "text": [
      "{'Albert': 'A', 'Dwi': 'B', 'Syahdan': 'D', 'Veronica': 'B'}\n",
      "{'Albert': 4.0, 'Dwi': 3.0, 'Syahdan': 2.0, 'Veronica': 3.0}\n"
     ]
    }
   ],
   "source": [
    "# 1. Function 'grade_converter'\n",
    "# 2. input: 'convert_to', n-paired of student(s) name and score\n",
    "# 3. argument 'convert_to' is either 'letter_grade' or 'gpa'\n",
    "# 4. return dict of students name and their converted score\n",
    "\n",
    "def grade_converter(convert_to, **studentScores):\n",
    "    if convert_to == \"letter_grade\":\n",
    "        score_new = {}\n",
    "        for stud in studentScores.keys():\n",
    "            if studentScores[stud] > 100 or studentScores[stud] < 0:\n",
    "                score_new[stud] = \"incorrect entry\"\n",
    "            elif studentScores[stud] >= 85:\n",
    "                score_new[stud] = \"A\"\n",
    "            elif studentScores[stud] >= 70:\n",
    "                score_new[stud] = \"B\"\n",
    "            elif studentScores[stud] >= 60:\n",
    "                score_new[stud] = \"C\"\n",
    "            elif studentScores[stud] >= 50:\n",
    "                score_new[stud] = \"D\"\n",
    "            elif studentScores[stud] >= 40:\n",
    "                score_new[stud] = \"E\"\n",
    "            elif studentScores[stud] < 40:\n",
    "                score_new[stud] = \"F\"\n",
    "\n",
    "    elif convert_to == \"gpa\":\n",
    "        score_new = {}\n",
    "        for stud in studentScores.keys():\n",
    "            if studentScores[stud] > 100 or studentScores[stud] < 0:\n",
    "                score_new[stud] = \"incorrect entry\"\n",
    "            elif studentScores[stud] >= 85:\n",
    "                score_new[stud] = 4.0\n",
    "            elif studentScores[stud] >= 70:\n",
    "                score_new[stud] = 3.0\n",
    "            elif studentScores[stud] >= 60:\n",
    "                score_new[stud] = 2.5\n",
    "            elif studentScores[stud] >= 50:\n",
    "                score_new[stud] = 2.0\n",
    "            elif studentScores[stud] >= 40:\n",
    "                score_new[stud] = 1.5\n",
    "            elif studentScores[stud] < 40:\n",
    "                score_new[stud] = 1.0\n",
    "\n",
    "    else:\n",
    "        raise Exception(\"hanya bisa convert ke 'letter_grade' atau 'gpa'\")\n",
    "    return score_new\n",
    "\n",
    "testGrade = grade_converter(convert_to='letter_grade', Albert=90, Dwi=82, Syahdan=58, Veronica=84)\n",
    "testGpa = grade_converter(convert_to='gpa', Albert=90, Dwi=82, Syahdan=58, Veronica=84)\n",
    "\n",
    "print(testGrade)\n",
    "print(testGpa)"
   ]
  },
  {
   "cell_type": "markdown",
   "metadata": {},
   "source": [
    "# Task 4"
   ]
  },
  {
   "cell_type": "code",
   "execution_count": 20,
   "metadata": {},
   "outputs": [
    {
     "name": "stdout",
     "output_type": "stream",
     "text": [
      "0\n",
      "3\n",
      "55\n"
     ]
    }
   ],
   "source": [
    "# 1. function 'fibo_seq'\n",
    "# 2. input: 'n' represents the asked number from fibo sequence index\n",
    "# 3. return n-th value\n",
    "\n",
    "def fibo_seq(n):\n",
    "    fiboNumber = 0\n",
    "    a = 0\n",
    "    b = 1\n",
    "    if n < 0:\n",
    "        raise Exception(\"Error n value\")\n",
    "    elif n == 0:\n",
    "        return a\n",
    "    elif n == 1:\n",
    "        return b\n",
    "    else:    \n",
    "        for i in range(2,n+1):\n",
    "            fiboNumber = a + b\n",
    "            a = b\n",
    "            b = fiboNumber\n",
    "\n",
    "    return fiboNumber\n",
    "\n",
    "\n",
    "test1 = fibo_seq(n=0)\n",
    "test2 = fibo_seq(n=4)\n",
    "test3 = fibo_seq(n=10)\n",
    "\n",
    "print(test1)\n",
    "print(test2)\n",
    "print(test3)"
   ]
  }
 ],
 "metadata": {
  "kernelspec": {
   "display_name": "base",
   "language": "python",
   "name": "python3"
  },
  "language_info": {
   "codemirror_mode": {
    "name": "ipython",
    "version": 3
   },
   "file_extension": ".py",
   "mimetype": "text/x-python",
   "name": "python",
   "nbconvert_exporter": "python",
   "pygments_lexer": "ipython3",
   "version": "3.11.5"
  }
 },
 "nbformat": 4,
 "nbformat_minor": 2
}
